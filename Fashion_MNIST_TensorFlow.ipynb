{
  "nbformat": 4,
  "nbformat_minor": 0,
  "metadata": {
    "colab": {
      "name": "Fashion MNIST-TensorFlow.ipynb",
      "provenance": [],
      "collapsed_sections": [],
      "authorship_tag": "ABX9TyPmzhsdYv0e2mJEybIl4mRb",
      "include_colab_link": true
    },
    "kernelspec": {
      "name": "python3",
      "display_name": "Python 3"
    }
  },
  "cells": [
    {
      "cell_type": "markdown",
      "metadata": {
        "id": "view-in-github",
        "colab_type": "text"
      },
      "source": [
        "<a href=\"https://colab.research.google.com/github/Felipe-Oliveira11/Fashion-MNIST/blob/master/Fashion_MNIST_TensorFlow.ipynb\" target=\"_parent\"><img src=\"https://colab.research.google.com/assets/colab-badge.svg\" alt=\"Open In Colab\"/></a>"
      ]
    },
    {
      "cell_type": "markdown",
      "metadata": {
        "id": "8cIKsnDVLd1f",
        "colab_type": "text"
      },
      "source": [
        "## Fashion MNIST \n",
        "\n",
        "<br>\n",
        "<hr>"
      ]
    },
    {
      "cell_type": "code",
      "metadata": {
        "id": "QHgEAL4gLXZq",
        "colab_type": "code",
        "colab": {
          "base_uri": "https://localhost:8080/",
          "height": 343
        },
        "outputId": "2f322cb8-f4a7-42f9-d522-c00f09a138d9"
      },
      "source": [
        "# TensorFlow e tf.keras\n",
        "import tensorflow as tf\n",
        "from tensorflow import keras\n",
        "from tensorflow.keras import Sequential\n",
        "from tensorflow.keras.optimizers import SGD, Adam, RMSprop\n",
        "from tensorflow.keras.layers import Dense, Input, Flatten\n",
        "from tensorflow.keras.layers import Dropout\n",
        "from tensorflow.keras.losses import SparseCategoricalCrossentropy\n",
        "from tensorflow.keras.utils import plot_model\n",
        "\n",
        "import pandas as pd \n",
        "import numpy as np\n",
        "import matplotlib.pyplot as plt\n",
        "import seaborn as sns\n",
        "from sklearn.metrics import confusion_matrix\n",
        "from sklearn.metrics import classification_report, accuracy_score\n",
        "\n",
        "!pip install mlxtend\n",
        "import mlxtend as ml\n",
        "from mlxtend.plotting import plot_confusion_matrix\n",
        "\n",
        "print(tf.__version__)\n",
        "print(ml.__version__)"
      ],
      "execution_count": 1,
      "outputs": [
        {
          "output_type": "stream",
          "text": [
            "/usr/local/lib/python3.6/dist-packages/statsmodels/tools/_testing.py:19: FutureWarning: pandas.util.testing is deprecated. Use the functions in the public API at pandas.testing instead.\n",
            "  import pandas.util.testing as tm\n"
          ],
          "name": "stderr"
        },
        {
          "output_type": "stream",
          "text": [
            "Requirement already satisfied: mlxtend in /usr/local/lib/python3.6/dist-packages (0.14.0)\n",
            "Requirement already satisfied: matplotlib>=1.5.1 in /usr/local/lib/python3.6/dist-packages (from mlxtend) (3.2.2)\n",
            "Requirement already satisfied: numpy>=1.10.4 in /usr/local/lib/python3.6/dist-packages (from mlxtend) (1.18.5)\n",
            "Requirement already satisfied: scipy>=0.17 in /usr/local/lib/python3.6/dist-packages (from mlxtend) (1.4.1)\n",
            "Requirement already satisfied: setuptools in /usr/local/lib/python3.6/dist-packages (from mlxtend) (49.1.0)\n",
            "Requirement already satisfied: pandas>=0.17.1 in /usr/local/lib/python3.6/dist-packages (from mlxtend) (1.0.5)\n",
            "Requirement already satisfied: scikit-learn>=0.18 in /usr/local/lib/python3.6/dist-packages (from mlxtend) (0.22.2.post1)\n",
            "Requirement already satisfied: kiwisolver>=1.0.1 in /usr/local/lib/python3.6/dist-packages (from matplotlib>=1.5.1->mlxtend) (1.2.0)\n",
            "Requirement already satisfied: python-dateutil>=2.1 in /usr/local/lib/python3.6/dist-packages (from matplotlib>=1.5.1->mlxtend) (2.8.1)\n",
            "Requirement already satisfied: cycler>=0.10 in /usr/local/lib/python3.6/dist-packages (from matplotlib>=1.5.1->mlxtend) (0.10.0)\n",
            "Requirement already satisfied: pyparsing!=2.0.4,!=2.1.2,!=2.1.6,>=2.0.1 in /usr/local/lib/python3.6/dist-packages (from matplotlib>=1.5.1->mlxtend) (2.4.7)\n",
            "Requirement already satisfied: pytz>=2017.2 in /usr/local/lib/python3.6/dist-packages (from pandas>=0.17.1->mlxtend) (2018.9)\n",
            "Requirement already satisfied: joblib>=0.11 in /usr/local/lib/python3.6/dist-packages (from scikit-learn>=0.18->mlxtend) (0.16.0)\n",
            "Requirement already satisfied: six>=1.5 in /usr/local/lib/python3.6/dist-packages (from python-dateutil>=2.1->matplotlib>=1.5.1->mlxtend) (1.12.0)\n",
            "2.2.0\n",
            "0.14.0\n"
          ],
          "name": "stdout"
        }
      ]
    },
    {
      "cell_type": "code",
      "metadata": {
        "id": "klyPaopCLhld",
        "colab_type": "code",
        "colab": {}
      },
      "source": [
        "# dataset de imagens\n",
        "fashion_mnist = keras.datasets.fashion_mnist"
      ],
      "execution_count": 2,
      "outputs": []
    },
    {
      "cell_type": "code",
      "metadata": {
        "id": "dzh_lJxcL7AM",
        "colab_type": "code",
        "colab": {}
      },
      "source": [
        "# treino e teste \n",
        "(X_train, y_train), (X_test, y_test) = fashion_mnist.load_data()"
      ],
      "execution_count": 3,
      "outputs": []
    },
    {
      "cell_type": "markdown",
      "metadata": {
        "id": "vEd-x6VEMK-u",
        "colab_type": "text"
      },
      "source": [
        "As imagens são arrays NumPy de 28x28, com os valores des pixels entre 0 to 255. As labels (alvo da classificação) são um array de inteiros, no intervalo de 0 a 9. Esse corresponde com a classe de roupa que cada imagem representa:"
      ]
    },
    {
      "cell_type": "markdown",
      "metadata": {
        "id": "xTiSuevKMVOs",
        "colab_type": "text"
      },
      "source": [
        "* 0\tCamisetas/Top (T-shirt/top)\n",
        "* 1\tCalça (Trouser)\n",
        "* 2\tSuéter (Pullover)\n",
        "* 3\tVestidos (Dress)\n",
        "* 4\tCasaco (Coat)\n",
        "* 5\tSandálias (Sandal)\n",
        "* 6\tCamisas (Shirt)\n",
        "* 7\tTênis (Sneaker)\n",
        "* 8\tBolsa (Bag)\n",
        "* 9\tBotas (Ankle boot)"
      ]
    },
    {
      "cell_type": "code",
      "metadata": {
        "id": "7GajEg94MZTr",
        "colab_type": "code",
        "colab": {}
      },
      "source": [
        "# classes \n",
        "class_names = ['T-shirt/top', 'Trouser', 'Pullover', 'Dress', 'Coat','Sandal', 'Shirt', 'Sneaker', 'Bag', 'Ankle boot']"
      ],
      "execution_count": 4,
      "outputs": []
    },
    {
      "cell_type": "code",
      "metadata": {
        "id": "yXELnAn8MfH8",
        "colab_type": "code",
        "colab": {
          "base_uri": "https://localhost:8080/",
          "height": 34
        },
        "outputId": "62044835-d9a9-425b-f4a8-938ff2a779f0"
      },
      "source": [
        "# shape de treino \n",
        "X_train.shape"
      ],
      "execution_count": 5,
      "outputs": [
        {
          "output_type": "execute_result",
          "data": {
            "text/plain": [
              "(60000, 28, 28)"
            ]
          },
          "metadata": {
            "tags": []
          },
          "execution_count": 5
        }
      ]
    },
    {
      "cell_type": "code",
      "metadata": {
        "id": "a9Xtc9tZMieM",
        "colab_type": "code",
        "colab": {
          "base_uri": "https://localhost:8080/",
          "height": 34
        },
        "outputId": "3f749085-c4ae-4262-f1f1-66d5a81e4780"
      },
      "source": [
        "# labels \n",
        "y_train.shape"
      ],
      "execution_count": 6,
      "outputs": [
        {
          "output_type": "execute_result",
          "data": {
            "text/plain": [
              "(60000,)"
            ]
          },
          "metadata": {
            "tags": []
          },
          "execution_count": 6
        }
      ]
    },
    {
      "cell_type": "code",
      "metadata": {
        "id": "4thqPsr7MtT7",
        "colab_type": "code",
        "colab": {
          "base_uri": "https://localhost:8080/",
          "height": 265
        },
        "outputId": "67ef9801-9406-4040-c6bd-fac5b30bc237"
      },
      "source": [
        "# imagens \n",
        "plt.figure()\n",
        "plt.imshow(X_train[0])\n",
        "plt.colorbar()\n",
        "plt.grid(False)\n",
        "plt.show()"
      ],
      "execution_count": 7,
      "outputs": [
        {
          "output_type": "display_data",
          "data": {
            "image/png": "[encoded data removed]",
            "text/plain": [
              "<Figure size 432x288 with 2 Axes>"
            ]
          },
          "metadata": {
            "tags": [],
            "needs_background": "light"
          }
        }
      ]
    },
    {
      "cell_type": "code",
      "metadata": {
        "id": "eV25SAMqM2oL",
        "colab_type": "code",
        "colab": {
          "base_uri": "https://localhost:8080/",
          "height": 1000
        },
        "outputId": "b2d8e06e-1df5-4abb-b736-6725dc371ef9"
      },
      "source": [
        "# visualizando imagens \n",
        "for i in range(1,4):\n",
        "  plt.figure(figsize=(12,6))\n",
        "  plt.imshow(X_train[i])\n",
        "  plt.colorbar()\n",
        "  plt.grid(False)\n",
        "  plt.show"
      ],
      "execution_count": 8,
      "outputs": [
        {
          "output_type": "display_data",
          "data": {
            "image/png": "[encoded data removed]",
            "text/plain": [
              "<Figure size 864x432 with 2 Axes>"
            ]
          },
          "metadata": {
            "tags": [],
            "needs_background": "light"
          }
        },
        {
          "output_type": "display_data",
          "data": {
            "image/png": "[encoded data removed]",
            "text/plain": [
              "<Figure size 864x432 with 2 Axes>"
            ]
          },
          "metadata": {
            "tags": [],
            "needs_background": "light"
          }
        },
        {
          "output_type": "display_data",
          "data": {
            "image/png": "[encoded data removed]",
            "text/plain": [
              "<Figure size 864x432 with 2 Axes>"
            ]
          },
          "metadata": {
            "tags": [],
            "needs_background": "light"
          }
        }
      ]
    },
    {
      "cell_type": "markdown",
      "metadata": {
        "id": "opF5yvEmNZq1",
        "colab_type": "text"
      },
      "source": [
        "Escalaremos esses valores no intervalo de 0 e 1 antes antes de alimentar o modelo da rede neural. Para fazer isso, dividimos os valores por 255. É importante que o conjunto de treinamento e o conjunto de teste podem ser pré-processados do mesmo modo:"
      ]
    },
    {
      "cell_type": "code",
      "metadata": {
        "id": "IaJ7KDi5NaO6",
        "colab_type": "code",
        "colab": {}
      },
      "source": [
        "# pré-processamento \n",
        "X_train = X_train / 255.0\n",
        "\n",
        "X_test = X_test / 255.0"
      ],
      "execution_count": 9,
      "outputs": []
    },
    {
      "cell_type": "code",
      "metadata": {
        "id": "8Y8hqiDoNl67",
        "colab_type": "code",
        "colab": {
          "base_uri": "https://localhost:8080/",
          "height": 589
        },
        "outputId": "7b8c2ed2-86c4-435b-d903-28a37eeeb6de"
      },
      "source": [
        "plt.figure(figsize=(10,10))\n",
        "for i in range(25):\n",
        "    plt.subplot(5,5,i+1)\n",
        "    plt.xticks([])\n",
        "    plt.yticks([])\n",
        "    plt.grid(False)\n",
        "    plt.imshow(X_train[i],  cmap=plt.cm.binary) #cmap=GnBu\n",
        "    plt.xlabel(class_names[y_train[i]])\n",
        "plt.show()"
      ],
      "execution_count": 10,
      "outputs": [
        {
          "output_type": "display_data",
          "data": {
            "image/png": "[encoded data removed]",
            "text/plain": [
              "<Figure size 720x720 with 25 Axes>"
            ]
          },
          "metadata": {
            "tags": []
          }
        }
      ]
    },
    {
      "cell_type": "markdown",
      "metadata": {
        "id": "6b-GXvmNORus",
        "colab_type": "text"
      },
      "source": [
        "<br>\n",
        "\n",
        "<b>Camada Flatten</b>: Nivela a entrada. Não afeta o tamanho do lote. \n",
        "\n",
        "Achatar (Flatten) um tensor significa remover todas as dimensões, exceto uma.\n",
        "\n",
        "Uma camada Flatten em Keras reformula o tensor para ter uma forma igual ao número de elementos contidos no tensor.\n",
        "\n",
        "É o mesmo que criar uma matriz 1d de elementos.\n",
        "\n",
        "\n",
        "<br>\n"
      ]
    },
    {
      "cell_type": "code",
      "metadata": {
        "id": "zmG_iQ2QOWOg",
        "colab_type": "code",
        "colab": {}
      },
      "source": [
        "# Rede neural \n",
        "model = Sequential([\n",
        "                  Flatten(input_shape=(28,28)), # input reformatando os dados para 1D (28 * 28 = 784 pixels)\n",
        "                  Dense(units=128, activation='relu'), # hidden layer 1 \n",
        "                  Dense(units=54, activation='relu'), # hidden layer 2 \n",
        "                  Dense(units=10, activation='softmax') # output layer \n",
        "                  ])"
      ],
      "execution_count": 11,
      "outputs": []
    },
    {
      "cell_type": "code",
      "metadata": {
        "id": "NCixY2s-T7km",
        "colab_type": "code",
        "colab": {}
      },
      "source": [
        "# Forma alternativa \n",
        "model = Sequential([\n",
        "                  Input(shape=(28,28), name='input_layer'), # input layer \n",
        "                  Flatten(name='Flatten'), # transform input into 1D array\n",
        "                  Dense(units=128, activation='relu', name='hidden_layer_1'), # hidden layer 1 \n",
        "                  Dense(units=54, activation='relu', name='hidden_layer_2'), # hidden layer 2 \n",
        "                  Dense(units=10, activation='softmax', name='output_layer') # output layer \n",
        "                  ])"
      ],
      "execution_count": 12,
      "outputs": []
    },
    {
      "cell_type": "code",
      "metadata": {
        "id": "_NesWX-NWMz6",
        "colab_type": "code",
        "colab": {}
      },
      "source": [
        "# Aplicando Dropout \n",
        "\n",
        "model = Sequential([\n",
        "                  Input(shape=(28,28), name='input_layer'),\n",
        "                  Dropout(rate=0.20, seed=42, name='Dropout_1'), # Dropout \n",
        "                  Flatten(name='Flatten'),\n",
        "                  Dense(units=128, activation='relu', name='hidden_layer_1'),  \n",
        "                  Dense(units=54, activation='relu', name='hidden_layer_2'),  \n",
        "                  Dense(units=10, activation='softmax', name='output_layer')\n",
        "                    ])"
      ],
      "execution_count": 13,
      "outputs": []
    },
    {
      "cell_type": "code",
      "metadata": {
        "id": "sIP-Wlosoloq",
        "colab_type": "code",
        "colab": {
          "base_uri": "https://localhost:8080/",
          "height": 340
        },
        "outputId": "f399d735-7d19-4371-b1ac-c87bf40fa6fd"
      },
      "source": [
        "# summary da rede neural  \n",
        "print(model.summary())"
      ],
      "execution_count": 14,
      "outputs": [
        {
          "output_type": "stream",
          "text": [
            "Model: \"sequential_2\"\n",
            "_________________________________________________________________\n",
            "Layer (type)                 Output Shape              Param #   \n",
            "=================================================================\n",
            "Dropout_1 (Dropout)          (None, 28, 28)            0         \n",
            "_________________________________________________________________\n",
            "Flatten (Flatten)            (None, 784)               0         \n",
            "_________________________________________________________________\n",
            "hidden_layer_1 (Dense)       (None, 128)               100480    \n",
            "_________________________________________________________________\n",
            "hidden_layer_2 (Dense)       (None, 54)                6966      \n",
            "_________________________________________________________________\n",
            "output_layer (Dense)         (None, 10)                550       \n",
            "=================================================================\n",
            "Total params: 107,996\n",
            "Trainable params: 107,996\n",
            "Non-trainable params: 0\n",
            "_________________________________________________________________\n",
            "None\n"
          ],
          "name": "stdout"
        }
      ]
    },
    {
      "cell_type": "markdown",
      "metadata": {
        "id": "oeTUzEi1P0Db",
        "colab_type": "text"
      },
      "source": [
        "A primeira camada da rede, tf.keras.layers.Flatten, transforma o formato da imagem de um array de imagens de duas dimensões (of 28 by 28 pixels) para um array de uma dimensão (de 28 * 28 = 784 pixels). Pense nessa camada como camadas não empilhadas de pixels de uma imagem e os emfilere. Essa camada não tem paramêtros para aprender; ela só reformata os dados."
      ]
    },
    {
      "cell_type": "markdown",
      "metadata": {
        "id": "i0dekXb0Qhy8",
        "colab_type": "text"
      },
      "source": [
        "Depois dos pixels serem achatados, a rede consite de uma sequência de duas camadas tf.keras.layers.Dense. Essa são camadas neurais densely connected, ou fully connected. A primeira camada Dense tem 128 nós (ou neurônios). A segunda (e última) camda é uma softmax de 10 nós que retorna um array de 10 probabilidades, cuja soma resulta em 1. Cada nó contem um valor que indica a probabilidade de que aquela imagem pertence a uma das 10 classes."
      ]
    },
    {
      "cell_type": "code",
      "metadata": {
        "id": "3la1H5_GP0Wp",
        "colab_type": "code",
        "colab": {}
      },
      "source": [
        "model.compile(optimizer=Adam(learning_rate=0.001),\n",
        "              loss=SparseCategoricalCrossentropy(),\n",
        "              metrics=['accuracy'])"
      ],
      "execution_count": 15,
      "outputs": []
    },
    {
      "cell_type": "code",
      "metadata": {
        "id": "soefVsXZQyuK",
        "colab_type": "code",
        "colab": {
          "base_uri": "https://localhost:8080/",
          "height": 255
        },
        "outputId": "dda2de5e-6a25-47f8-cd6d-4cab55ac166f"
      },
      "source": [
        "# utilizando parâmetro \"validation_data\"\n",
        "history = model.fit(X_train, y_train, epochs=10, batch_size=10, validation_split=0.2)"
      ],
      "execution_count": null,
      "outputs": [
        {
          "output_type": "stream",
          "text": [
            "Epoch 1/10\n",
            "4800/4800 [==============================] - 11s 2ms/step - loss: 0.5329 - accuracy: 0.8076 - val_loss: 0.4367 - val_accuracy: 0.8449\n",
            "Epoch 2/10\n",
            "4800/4800 [==============================] - 11s 2ms/step - loss: 0.4132 - accuracy: 0.8468 - val_loss: 0.3758 - val_accuracy: 0.8680\n",
            "Epoch 3/10\n",
            "4800/4800 [==============================] - 11s 2ms/step - loss: 0.3811 - accuracy: 0.8587 - val_loss: 0.3672 - val_accuracy: 0.8675\n",
            "Epoch 4/10\n",
            "4800/4800 [==============================] - 11s 2ms/step - loss: 0.3583 - accuracy: 0.8672 - val_loss: 0.3637 - val_accuracy: 0.8683\n",
            "Epoch 5/10\n",
            "4800/4800 [==============================] - 11s 2ms/step - loss: 0.3466 - accuracy: 0.8721 - val_loss: 0.3526 - val_accuracy: 0.8741\n",
            "Epoch 6/10\n",
            "4800/4800 [==============================] - 11s 2ms/step - loss: 0.3333 - accuracy: 0.8751 - val_loss: 0.3754 - val_accuracy: 0.8647\n",
            "Epoch 7/10\n",
            " 239/4800 [>.............................] - ETA: 8s - loss: 0.3095 - accuracy: 0.8870"
          ],
          "name": "stdout"
        }
      ]
    },
    {
      "cell_type": "code",
      "metadata": {
        "id": "NBJcQBySRALp",
        "colab_type": "code",
        "colab": {}
      },
      "source": [
        "# avaliando \n",
        "test_loss, test_acc = model.evaluate(X_test,  y_test, verbose=2)"
      ],
      "execution_count": null,
      "outputs": []
    },
    {
      "cell_type": "code",
      "metadata": {
        "id": "RSl73KlIRvBq",
        "colab_type": "code",
        "colab": {}
      },
      "source": [
        "print('Binary CrossEntropy: {}'.format(test_loss))\n",
        "print('Accuracy: {}'.format(test_acc))"
      ],
      "execution_count": null,
      "outputs": []
    },
    {
      "cell_type": "code",
      "metadata": {
        "id": "pwkkpAj5R4Go",
        "colab_type": "code",
        "colab": {}
      },
      "source": [
        "# predições \n",
        "predictions = model.predict(X_test)"
      ],
      "execution_count": null,
      "outputs": []
    },
    {
      "cell_type": "code",
      "metadata": {
        "id": "oX6SSbZySD9J",
        "colab_type": "code",
        "colab": {}
      },
      "source": [
        "predictions[0]"
      ],
      "execution_count": null,
      "outputs": []
    },
    {
      "cell_type": "code",
      "metadata": {
        "id": "569xDZSUSIRo",
        "colab_type": "code",
        "colab": {}
      },
      "source": [
        "# Classe predita \n",
        "np.argmax(predictions[0])"
      ],
      "execution_count": null,
      "outputs": []
    },
    {
      "cell_type": "code",
      "metadata": {
        "id": "PRCOFyllkUDL",
        "colab_type": "code",
        "colab": {}
      },
      "source": [
        "# métricas \n",
        "from sklearn.metrics import  accuracy_score, classification_report\n",
        "\n",
        "y_pred = model.predict_classes(X_test)\n",
        "y_proba = model.predict_proba(X_test)[:,1]\n",
        "print('Acurácia: {}'.format(accuracy_score(y_test, y_pred)))\n",
        "print('\\n')\n",
        "print(classification_report(y_test, y_pred))"
      ],
      "execution_count": null,
      "outputs": []
    },
    {
      "cell_type": "markdown",
      "metadata": {
        "id": "ABPJGbEXpZR-",
        "colab_type": "text"
      },
      "source": [
        "<br>\n",
        "\n",
        "History é um objeto que armazena todo o histórico de treinamento da Rede Neural\n",
        "Armazenando as Epochs e seus erros. O objeto \"histórico\" retornado mantém um registro dos valores de perda e métricas durante o treinamento\n",
        "\n",
        "\n",
        "<br>"
      ]
    },
    {
      "cell_type": "code",
      "metadata": {
        "id": "JI3FO0thpoCG",
        "colab_type": "code",
        "colab": {}
      },
      "source": [
        "history.history"
      ],
      "execution_count": null,
      "outputs": []
    },
    {
      "cell_type": "markdown",
      "metadata": {
        "id": "m2F80EHGr8o5",
        "colab_type": "text"
      },
      "source": [
        "<br>\n",
        "<br>\n",
        "\n",
        "### Curva de Aprendizado da Rede neural \n",
        "\n",
        "\n",
        "<br>"
      ]
    },
    {
      "cell_type": "code",
      "metadata": {
        "id": "pUbZGVOssDOu",
        "colab_type": "code",
        "colab": {}
      },
      "source": [
        "# acurácia \n",
        "plt.plot(history.history['accuracy'])\n",
        "plt.plot(history.history['val_accuracy'])\n",
        "plt.title('Acurácia', fontsize=14)\n",
        "plt.xlabel('Epoch', fontsize=14)\n",
        "plt.ylabel('Acurácia',fontsize=14)\n",
        "plt.legend(['Treino', 'Teste'], loc='upper left')\n",
        "plt.show()\n",
        "\n",
        "\n",
        "print('\\n')\n",
        "\n",
        "\n",
        "# entropia cruzada \n",
        "plt.plot(history.history['loss'])\n",
        "plt.plot(history.history['val_loss'])\n",
        "plt.title('LogLoss', fontsize=14)\n",
        "plt.xlabel('Epoch', fontsize=14)\n",
        "plt.ylabel('Loss',fontsize=14)\n",
        "plt.legend(['Treino', 'Teste'], loc='upper left')\n",
        "plt.show()"
      ],
      "execution_count": null,
      "outputs": []
    },
    {
      "cell_type": "markdown",
      "metadata": {
        "id": "VJ795hO_1eXj",
        "colab_type": "text"
      },
      "source": [
        "<br>\n",
        "\n",
        "\n",
        "### matrix de confusão "
      ]
    },
    {
      "cell_type": "code",
      "metadata": {
        "id": "Y0qWbADY1ihh",
        "colab_type": "code",
        "colab": {}
      },
      "source": [
        "cm = confusion_matrix(y_test, y_pred)\n",
        "plot_confusion_matrix(conf_mat=cm, figsize=(8,8)) # testar argumento \"class_names\"\n",
        "plt.title('Matrix de Confusão', fontsize=14)\n",
        "plt.tight_layout()"
      ],
      "execution_count": null,
      "outputs": []
    },
    {
      "cell_type": "markdown",
      "metadata": {
        "id": "gV_zuW7tSTAH",
        "colab_type": "text"
      },
      "source": [
        "<br>\n",
        "<br>\n",
        "\n",
        "\n",
        "### Visualizar Rede neural \n",
        "\n",
        "\n",
        "<br>"
      ]
    },
    {
      "cell_type": "code",
      "metadata": {
        "id": "h1x2xtjCSVyq",
        "colab_type": "code",
        "colab": {}
      },
      "source": [
        "# Arquitetura da Rede Neural\n",
        "plot_model(model, \"multi_layer_perceptron.png\", show_shapes=True)"
      ],
      "execution_count": null,
      "outputs": []
    },
    {
      "cell_type": "markdown",
      "metadata": {
        "id": "LyJqZqz6UTjf",
        "colab_type": "text"
      },
      "source": [
        "<br>\n",
        "<br>\n",
        "<hr>\n",
        "\n",
        "<br>\n",
        "<hr>\n",
        "<br>\n",
        "\n"
      ]
    }
  ]
}